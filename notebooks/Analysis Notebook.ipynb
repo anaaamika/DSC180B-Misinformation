{
 "cells": [
  {
   "cell_type": "code",
   "execution_count": 1,
   "id": "79e6bebc",
   "metadata": {},
   "outputs": [],
   "source": [
    "import pandas as pd"
   ]
  },
  {
   "cell_type": "code",
   "execution_count": 5,
   "id": "3baea1b6",
   "metadata": {},
   "outputs": [],
   "source": [
    "df = pd.read_csv(\"../data/bad_urls.csv\", header=None)"
   ]
  },
  {
   "cell_type": "code",
   "execution_count": 7,
   "id": "e8f506f8",
   "metadata": {},
   "outputs": [
    {
     "data": {
      "text/plain": [
       "0                                           [{'start': 59\n",
       "1                                               'end': 82\n",
       "2        'url': 'https://urldefense.proofpoint.com/v2/...\n",
       "3        'expanded_url': 'https://urldefense.proofpoin...\n",
       "4        'display_url': 'pic.twitter.com/SnWvYDGZgX'}]...\n",
       "                              ...                        \n",
       "7280     'display_url': 'pic.twitter.com/EyelcvNTIU'}]...\n",
       "7281                                           'end': 290\n",
       "7282     'url': 'https://urldefense.proofpoint.com/v2/...\n",
       "7283     'expanded_url': 'https://urldefense.proofpoin...\n",
       "7284       'display_url': 'twitter.com/Metropoles/sta…'}]\n",
       "Name: 0, Length: 7285, dtype: object"
      ]
     },
     "execution_count": 7,
     "metadata": {},
     "output_type": "execute_result"
    }
   ],
   "source": [
    "df.iloc[0]"
   ]
  },
  {
   "cell_type": "code",
   "execution_count": 2,
   "id": "7f18e985",
   "metadata": {},
   "outputs": [],
   "source": [
    "import requests\n",
    "headers = {'User-Agent': 'Mozilla/5.0 (Windows NT 10.0; Win64; x64) AppleWebKit/537.36 (KHTML, like Gecko) Chrome/90.0.4430.85 Safari/537.36 Edg/90.0.818.46'}"
   ]
  },
  {
   "cell_type": "code",
   "execution_count": 64,
   "id": "6595a74d",
   "metadata": {},
   "outputs": [
    {
     "name": "stderr",
     "output_type": "stream",
     "text": [
      "/opt/conda/lib/python3.9/site-packages/urllib3/connectionpool.py:1013: InsecureRequestWarning: Unverified HTTPS request is being made to host 'www.google.com'. Adding certificate verification is strongly advised. See: https://urllib3.readthedocs.io/en/1.26.x/advanced-usage.html#ssl-warnings\n",
      "  warnings.warn(\n"
     ]
    },
    {
     "data": {
      "text/plain": [
       "'https://www.google.com/url?rct=j&sa=t&url=https%3A%2F%2Fwww.youtube.com%2Fwatch%3Fv%3DRiMGC8wUSVA&ct=ga&cd=CAIyGWMxZDhmYjEzNjhhMmRjNTU6Y2E6ZW46Q0E&usg=AFQjCNEd5q_7eu_Kbyszlxnb-BN-nDHeRg&utm_source=dlvr.it&utm_medium=twitter'"
      ]
     },
     "execution_count": 64,
     "metadata": {},
     "output_type": "execute_result"
    }
   ],
   "source": [
    "response = requests.get(\"http://dlvr.it/SFjtW6\", headers=headers, allow_redirects=True, verify=False)\n",
    "response.url"
   ]
  },
  {
   "cell_type": "code",
   "execution_count": 21,
   "id": "5777831f",
   "metadata": {},
   "outputs": [],
   "source": [
    "import csv\n",
    "fn = open('bad_urls.csv', 'a') \n",
    "writer = csv.writer(fn)\n",
    "writer.writerow([\"https://bitly.ift.tt/3yWRwQs\"])\n",
    "fn.close()"
   ]
  },
  {
   "cell_type": "code",
   "execution_count": 25,
   "id": "ef050853",
   "metadata": {},
   "outputs": [
    {
     "data": {
      "text/html": [
       "<div>\n",
       "<style scoped>\n",
       "    .dataframe tbody tr th:only-of-type {\n",
       "        vertical-align: middle;\n",
       "    }\n",
       "\n",
       "    .dataframe tbody tr th {\n",
       "        vertical-align: top;\n",
       "    }\n",
       "\n",
       "    .dataframe thead th {\n",
       "        text-align: right;\n",
       "    }\n",
       "</style>\n",
       "<table border=\"1\" class=\"dataframe\">\n",
       "  <thead>\n",
       "    <tr style=\"text-align: right;\">\n",
       "      <th></th>\n",
       "      <th>0</th>\n",
       "    </tr>\n",
       "  </thead>\n",
       "  <tbody>\n",
       "    <tr>\n",
       "      <th>0</th>\n",
       "      <td>https://bitly.ift.tt/3yWRwQs</td>\n",
       "    </tr>\n",
       "    <tr>\n",
       "      <th>1</th>\n",
       "      <td>https://bitly.ift.tt/3yWRwQs</td>\n",
       "    </tr>\n",
       "    <tr>\n",
       "      <th>2</th>\n",
       "      <td>https://bitly.ift.tt/3yWRwQs</td>\n",
       "    </tr>\n",
       "  </tbody>\n",
       "</table>\n",
       "</div>"
      ],
      "text/plain": [
       "                              0\n",
       "0  https://bitly.ift.tt/3yWRwQs\n",
       "1  https://bitly.ift.tt/3yWRwQs\n",
       "2  https://bitly.ift.tt/3yWRwQs"
      ]
     },
     "execution_count": 25,
     "metadata": {},
     "output_type": "execute_result"
    }
   ],
   "source": [
    "import pandas as pd\n",
    "pd.read_csv(\"bad_urls.csv\", header=None)"
   ]
  },
  {
   "cell_type": "code",
   "execution_count": 69,
   "id": "b4bd6ff4",
   "metadata": {},
   "outputs": [
    {
     "data": {
      "text/plain": [
       "dict_keys(['rct', 'sa', 'url', 'ct', 'cd', 'usg', 'utm_source', 'utm_medium'])"
      ]
     },
     "execution_count": 69,
     "metadata": {},
     "output_type": "execute_result"
    }
   ],
   "source": [
    "from urllib import parse\n",
    "url = \"https://www.google.com/url?rct=j&sa=t&url=https%3A%2F%2Fwww.youtube.com%2Fwatch%3Fv%3DRiMGC8wUSVA&ct=ga&cd=CAIyGWMxZDhmYjEzNjhhMmRjNTU6Y2E6ZW46Q0E&usg=AFQjCNEd5q_7eu_Kbyszlxnb-BN-nDHeRg&utm_source=dlvr.it&utm_medium=twitter\"\n",
    "url_parsed = parse.urlparse(url)\n",
    "qsl = parse.parse_qs(url_parsed.query)\n",
    "qsl.keys()\n"
   ]
  },
  {
   "cell_type": "code",
   "execution_count": 60,
   "id": "d1bb4f69",
   "metadata": {},
   "outputs": [
    {
     "data": {
      "text/plain": [
       "'g3mgcHLJ2Ew'"
      ]
     },
     "execution_count": 60,
     "metadata": {},
     "output_type": "execute_result"
    }
   ],
   "source": [
    "url_parsed.path.split('/')[-1]"
   ]
  },
  {
   "cell_type": "code",
   "execution_count": null,
   "id": "8329ef18",
   "metadata": {},
   "outputs": [],
   "source": []
  },
  {
   "cell_type": "code",
   "execution_count": 56,
   "id": "29ee9efa",
   "metadata": {},
   "outputs": [
    {
     "data": {
      "text/plain": [
       "[]"
      ]
     },
     "execution_count": 56,
     "metadata": {},
     "output_type": "execute_result"
    }
   ],
   "source": [
    "import re\n",
    "pattern = re.compile(r\"\"\"https?:\\/\\/(?:[0-9A-Z-]+\\.)?(?:youtu\\.be\\/|youtube(?:-nocookie)?\\.com\\S*[^\\w\\s-])([\\w-]{11})(?=[^\\w-]|$)(?:[?=&+%\\w.-]*(?:['\"][^<>]*>|<\\/a>))[?=&+%\\w.-]*\"\"\", re.IGNORECASE)\n",
    "re.search(pattern,  \"https://youtube/g3mgcHLJ2Ew\")\n",
    "result = re.findall(pattern, url)\n",
    "result"
   ]
  },
  {
   "cell_type": "code",
   "execution_count": 44,
   "id": "7ae91528",
   "metadata": {},
   "outputs": [
    {
     "data": {
      "text/plain": [
       "True"
      ]
     },
     "execution_count": 44,
     "metadata": {},
     "output_type": "execute_result"
    }
   ],
   "source": [
    "any(x in \"herwegoyoutu.be\" for x in [\"youtube\", \"youtu.be\"])"
   ]
  },
  {
   "cell_type": "code",
   "execution_count": null,
   "id": "4c692e62",
   "metadata": {},
   "outputs": [],
   "source": []
  }
 ],
 "metadata": {
  "kernelspec": {
   "display_name": "Python 3 (clean)",
   "language": "python",
   "name": "python3_clean"
  },
  "language_info": {
   "codemirror_mode": {
    "name": "ipython",
    "version": 3
   },
   "file_extension": ".py",
   "mimetype": "text/x-python",
   "name": "python",
   "nbconvert_exporter": "python",
   "pygments_lexer": "ipython3",
   "version": "3.9.5"
  }
 },
 "nbformat": 4,
 "nbformat_minor": 5
}
