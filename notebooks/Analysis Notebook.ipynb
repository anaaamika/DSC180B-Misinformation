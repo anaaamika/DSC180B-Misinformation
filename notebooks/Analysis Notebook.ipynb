{
 "cells": [
  {
   "cell_type": "code",
   "execution_count": 1,
   "id": "79e6bebc",
   "metadata": {},
   "outputs": [],
   "source": [
    "import pandas as pd"
   ]
  },
  {
   "cell_type": "code",
   "execution_count": 5,
   "id": "3baea1b6",
   "metadata": {},
   "outputs": [],
   "source": [
    "df = pd.read_csv(\"../data/bad_urls.csv\", header=None)"
   ]
  },
  {
   "cell_type": "code",
   "execution_count": 7,
   "id": "e8f506f8",
   "metadata": {},
   "outputs": [
    {
     "data": {
      "text/plain": [
       "0                                           [{'start': 59\n",
       "1                                               'end': 82\n",
       "2        'url': 'https://urldefense.proofpoint.com/v2/...\n",
       "3        'expanded_url': 'https://urldefense.proofpoin...\n",
       "4        'display_url': 'pic.twitter.com/SnWvYDGZgX'}]...\n",
       "                              ...                        \n",
       "7280     'display_url': 'pic.twitter.com/EyelcvNTIU'}]...\n",
       "7281                                           'end': 290\n",
       "7282     'url': 'https://urldefense.proofpoint.com/v2/...\n",
       "7283     'expanded_url': 'https://urldefense.proofpoin...\n",
       "7284       'display_url': 'twitter.com/Metropoles/sta…'}]\n",
       "Name: 0, Length: 7285, dtype: object"
      ]
     },
     "execution_count": 7,
     "metadata": {},
     "output_type": "execute_result"
    }
   ],
   "source": [
    "df.iloc[0]"
   ]
  },
  {
   "cell_type": "code",
   "execution_count": null,
   "id": "7f18e985",
   "metadata": {},
   "outputs": [],
   "source": []
  }
 ],
 "metadata": {
  "kernelspec": {
   "display_name": "Python 3 (clean)",
   "language": "python",
   "name": "python3_clean"
  },
  "language_info": {
   "codemirror_mode": {
    "name": "ipython",
    "version": 3
   },
   "file_extension": ".py",
   "mimetype": "text/x-python",
   "name": "python",
   "nbconvert_exporter": "python",
   "pygments_lexer": "ipython3",
   "version": "3.9.5"
  }
 },
 "nbformat": 4,
 "nbformat_minor": 5
}
